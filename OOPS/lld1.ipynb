{
 "cells": [
  {
   "cell_type": "code",
   "execution_count": null,
   "id": "8bc0c11a",
   "metadata": {},
   "outputs": [],
   "source": [
    "\"\"\"\n",
    "✅ Human-Friendly LLD Problem-Solving Steps\n",
    "🔹 Step 1: Ask Doubts / Clarify Requirements\n",
    "What entities are involved?\n",
    "\n",
    "What should each one do?\n",
    "\n",
    "Any specific edge cases or constraints?\n",
    "\n",
    "✅ “Is it only about vehicles? Do we also need bookings, payments, parking, etc.?”\n",
    "\n",
    "🔹 Step 2: Identify the Classes\n",
    "List down nouns from the problem.\n",
    "\n",
    "E.g., Vehicle, Car, Bike, Truck, ParkingSlot, Booking.\n",
    "\n",
    "🔹 Step 3: Check Common Features\n",
    "Find common attributes or methods between classes.\n",
    "\n",
    "Use Inheritance to avoid repetition.\n",
    "\n",
    "✅ “All vehicles have license_plate, model, owner → put them in a Vehicle parent class.”\n",
    "\n",
    "🔹 Step 4: Implement the Classes\n",
    "Start from base → derived.\n",
    "\n",
    "Build small → test → connect.\n",
    "\n",
    "Avoid over-engineering.\n",
    "\n",
    "\n",
    "\"\"\""
   ]
  },
  {
   "cell_type": "code",
   "execution_count": 23,
   "id": "884d0186",
   "metadata": {},
   "outputs": [],
   "source": [
    "class Vechicle:\n",
    "    def __init__(self,vechile_name,vechile_no,fuel_type,price):\n",
    "        self.vechile_name=vechile_name\n",
    "\n",
    "        self.vechile_no=vechile_no\n",
    "        self.fuel_type=fuel_type\n",
    "        self.price=price\n",
    "    #  If you want print(object) to show something nice, use __str__().\n",
    "    def info(self):\n",
    "       return  f\"{self.vechile_no} ({self.vechile_no}) - {self.fuel_type}, ₹{self.price}\"\n",
    "    def stop(self):\n",
    "        print(f\"{ self.vechile_name}  is stopped\")\n",
    "    def start(self):\n",
    "         print(f\"{ self.vechile_name}  is started\")\n",
    "\n",
    "v = Vechicle(\"Honda City\", \"KA01AB1234\", \"Petrol\", 1000000)\n"
   ]
  },
  {
   "cell_type": "code",
   "execution_count": 24,
   "id": "9ec0b39c",
   "metadata": {},
   "outputs": [
    {
     "name": "stdout",
     "output_type": "stream",
     "text": [
      "KA01AB1234 (KA01AB1234) - Petrol, ₹1000000,4\n"
     ]
    }
   ],
   "source": [
    "class Car(Vechicle):\n",
    "    def __init__(self,vechile_name,vechile_no,fuel_type,price,no_wheels):\n",
    "        super().__init__(vechile_name,vechile_no,fuel_type,price)\n",
    "        self.no_wheels=no_wheels\n",
    "    def m(self):\n",
    "         base= super().info()\n",
    "         return f\"{base},{self.no_wheels}\"\n",
    "\n",
    "       \n",
    "        \n",
    "car1=Car(\"Honda City\", \"KA01AB1234\", \"Petrol\", 1000000,4)\n",
    "print(car1.m())\n",
    "\n"
   ]
  },
  {
   "cell_type": "code",
   "execution_count": 4,
   "id": "fd51b4a4",
   "metadata": {},
   "outputs": [
    {
     "name": "stdout",
     "output_type": "stream",
     "text": [
      "False\n"
     ]
    }
   ],
   "source": [
    "def func(s):\n",
    "    stack=[]\n",
    "    for char in s:\n",
    "        if char==\"(\" or char==\"{\" or char==\"[\":\n",
    "            stack.append(char)\n",
    "        else:\n",
    "            if not stack:\n",
    "                return False\n",
    "            top=stack.pop()\n",
    "            if (top==\"(\" and char!=\")\") or (top==\"{\" and char!=\"}\") or (top==\"[\" and char!=\"]\"):\n",
    "                return False\n",
    "s=\"{({)}}\"\n",
    "print(func(s))"
   ]
  },
  {
   "cell_type": "code",
   "execution_count": null,
   "id": "22c6df3b",
   "metadata": {},
   "outputs": [],
   "source": []
  }
 ],
 "metadata": {
  "kernelspec": {
   "display_name": "Python 3",
   "language": "python",
   "name": "python3"
  },
  "language_info": {
   "codemirror_mode": {
    "name": "ipython",
    "version": 3
   },
   "file_extension": ".py",
   "mimetype": "text/x-python",
   "name": "python",
   "nbconvert_exporter": "python",
   "pygments_lexer": "ipython3",
   "version": "3.9.12"
  }
 },
 "nbformat": 4,
 "nbformat_minor": 5
}
